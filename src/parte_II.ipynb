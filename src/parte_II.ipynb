{
 "cells": [
  {
   "cell_type": "markdown",
   "metadata": {},
   "source": [
    "#### Vendor Count & Product Count features: <br>"
   ]
  },
  {
   "cell_type": "code",
   "execution_count": null,
   "metadata": {
    "vscode": {
     "languageId": "plaintext"
    }
   },
   "outputs": [],
   "source": [
    "product_count_zero = vendor_count_zero = df.loc[df[\"product_count\"]==0, [\"customer_id\", \"vendor_count\", \"product_count\", \"first_order\", \"last_order\"]]\n",
    "\n",
    "print(f\"Total number of customers with product_count equal to 0: {len(product_count_zero)} customers\")\n",
    "\n",
    "# Product_count = 0, some have vendor_count = 1. \n",
    "# Strange value\n",
    "\n",
    "# If the customer didn't order any product how the vendor count ==1??"
   ]
  },
  {
   "cell_type": "code",
   "execution_count": null,
   "metadata": {
    "vscode": {
     "languageId": "plaintext"
    }
   },
   "outputs": [],
   "source": [
    "# unlock vendor count = 0: #strange value \n",
    "vendor_count_zero = df.loc[df[\"vendor_count\"]==0, [\"customer_id\", \"vendor_count\", \"product_count\", \"first_order\", \"last_order\"]]\n",
    "\n",
    "print(f\"Total number of customers with vendor_count and product_count equal to 0: {len(vendor_count_zero)} customers\")\n",
    "\n",
    "# Indicative of inactive customers. First order date may be the date of the customer registration in the database. "
   ]
  },
  {
   "cell_type": "code",
   "execution_count": null,
   "metadata": {
    "vscode": {
     "languageId": "plaintext"
    }
   },
   "outputs": [],
   "source": [
    "product_zero_vendor_one = df.loc[(df[\"product_count\"]==0) & (df[\"vendor_count\"]>=1), [\"customer_id\", \"vendor_count\", \"product_count\", \"first_order\", \"last_order\"]]\n",
    "\n",
    "product_zero_vendor_one_percentage = len(product_zero_vendor_one) / len(df) * 100\n",
    "\n",
    "print(f\"Number of customers with product_count = 0 and vendor_count >= 1: {len(product_zero_vendor_one)} customers\")\n",
    "print(f\"Percentage of customers with product_count = 0 and vendor_count >= 1: {round(product_zero_vendor_one_percentage, 4)} %\")"
   ]
  }
 ],
 "metadata": {
  "language_info": {
   "name": "python"
  }
 },
 "nbformat": 4,
 "nbformat_minor": 2
}
