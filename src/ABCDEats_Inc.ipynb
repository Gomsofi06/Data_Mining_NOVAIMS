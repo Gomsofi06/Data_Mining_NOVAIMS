{
 "cells": [
  {
   "cell_type": "markdown",
   "metadata": {},
   "source": [
    "# Data Mining Project: ABCDEats Inc.\n",
    "\n",
    "Fall Semester 2024-2025 <br>\n",
    "\n",
    "Master in Data Science and Advanced Analytics <br>\n",
    "\n",
    "NOVA Information Management School"
   ]
  },
  {
   "cell_type": "markdown",
   "metadata": {},
   "source": [
    "## Project Description\n",
    "\n",
    "In this project, you will act as consultants for ABCDEats Inc. (ABCDE), a fictional food delivery service partner- ing with a range of restaurants to offer diverse meal options. Your task is to analyse customer data collected over three months from three cities to help ABCDE develop a data-driven strategy tailored to various customer segments. The description of the data is provided under the Dataset Description section of this document. <br>\n",
    "\n",
    "We recommend segmenting customers using multiple perspectives. Examples of segmentation perspec- tives include value-based segmentation, which groups customers by their economic value; preference or behaviour-based segmentation which focuses on purchasing habits; and demographic segmentation which categorises customers by attributes like age, gender, and income to understand different interaction pat- terns. <br>\n",
    "\n",
    "Ultimately, the company seeks a final segmentation that integrates these perspectives to enable them to develop a comprehensive marketing strategy."
   ]
  },
  {
   "cell_type": "markdown",
   "metadata": {},
   "source": [
    "## Expected Outcomes\n",
    "\n",
    "* Conduct an in-depth exploration of the dataset. Summarise key statistics for the data, and discuss their possible implications. <br>\n",
    "\n",
    "* Identifyanytrends,patterns,oranomalieswithin the dataset. Explore relationships between fea- tures. <br>\n",
    "\n",
    "* Create new features that may help enhance your analysis. <br>\n",
    "\n",
    "* Use visualisations to effectively communicate your findings.\n"
   ]
  },
  {
   "cell_type": "code",
   "execution_count": 125,
   "metadata": {},
   "outputs": [],
   "source": [
    "import pandas as pd \n",
    "import numpy as np\n",
    "pd.set_option(\"display.max_columns\", None)\n",
    "pd.set_option(\"display.max_rows\", None)"
   ]
  },
  {
   "cell_type": "code",
   "execution_count": 126,
   "metadata": {},
   "outputs": [],
   "source": [
    "df = pd.read_csv(\"../dataset/DM2425_ABCDEats_DATASET.csv\")"
   ]
  },
  {
   "cell_type": "code",
   "execution_count": null,
   "metadata": {},
   "outputs": [],
   "source": [
    "df.head(10)\n",
    "# is_chain wrongly defined -> (# orders from chain restaurant)"
   ]
  },
  {
   "cell_type": "code",
   "execution_count": null,
   "metadata": {},
   "outputs": [],
   "source": [
    "df.info()\n",
    "#Incorrect data types:\n",
    "# customer_age (int)\n",
    "# first_order (int)\n",
    "# HR_0 (int)\n",
    "\n",
    "# Duplicate entries in customer ID (??)\n",
    "#customer age nulls \n",
    "# first order nulls \n",
    "# HR0 nulls \n"
   ]
  },
  {
   "cell_type": "markdown",
   "metadata": {},
   "source": [
    "### Duplicates"
   ]
  },
  {
   "cell_type": "code",
   "execution_count": null,
   "metadata": {},
   "outputs": [],
   "source": [
    "print(df[\"customer_id\"].nunique())\n",
    "# unique customer IDs"
   ]
  },
  {
   "cell_type": "code",
   "execution_count": null,
   "metadata": {},
   "outputs": [],
   "source": [
    "id_count = df[\"customer_id\"].value_counts()\n",
    "duplicate_id_values_count = id_count[id_count>1]\n",
    "duplicate_id_values= duplicate_id_values_count.index\n",
    "print(duplicate_id_values)\n",
    "#duplicate id values (needed??)"
   ]
  },
  {
   "cell_type": "code",
   "execution_count": null,
   "metadata": {},
   "outputs": [],
   "source": [
    "df.duplicated().sum()\n",
    "# count of duplicate values"
   ]
  },
  {
   "cell_type": "code",
   "execution_count": 133,
   "metadata": {},
   "outputs": [],
   "source": [
    "df.drop_duplicates(inplace=True)\n",
    "#remove duplicates"
   ]
  },
  {
   "cell_type": "code",
   "execution_count": null,
   "metadata": {},
   "outputs": [],
   "source": [
    "df.duplicated().sum()\n",
    "#needed(??)"
   ]
  },
  {
   "cell_type": "markdown",
   "metadata": {},
   "source": [
    "### Missing values"
   ]
  },
  {
   "cell_type": "code",
   "execution_count": null,
   "metadata": {},
   "outputs": [],
   "source": [
    "df.isna().sum()\n",
    "# needed(?)"
   ]
  },
  {
   "cell_type": "code",
   "execution_count": 137,
   "metadata": {},
   "outputs": [],
   "source": [
    "df.replace(\"\", np.nan, inplace=True)\n",
    "# replace missing values with nan"
   ]
  },
  {
   "cell_type": "code",
   "execution_count": 138,
   "metadata": {},
   "outputs": [],
   "source": [
    "df.replace(\"-\", np.nan, inplace=True)\n",
    "# replace missing values with nan"
   ]
  },
  {
   "cell_type": "code",
   "execution_count": null,
   "metadata": {},
   "outputs": [],
   "source": [
    "missing_values = df.isna().sum()\n",
    "missing_values\n",
    "# missing values:\n",
    "# - customer_region \n",
    "# - customer age \n",
    "# - last promo \n",
    "# - first order \n",
    "# - HR0 \n",
    "\n",
    "# total number of missing values\n",
    "\n",
    "#first_order => missing value ainda não comprou // 0 é que comprou hoje "
   ]
  },
  {
   "cell_type": "code",
   "execution_count": null,
   "metadata": {},
   "outputs": [],
   "source": [
    "missing_values.sum()\n",
    "# total number of missing values"
   ]
  },
  {
   "cell_type": "markdown",
   "metadata": {},
   "source": [
    "##### Treat missing values (?)"
   ]
  },
  {
   "cell_type": "markdown",
   "metadata": {},
   "source": [
    "###### - missing values: substituir o valor ou ent fazer clustering com os missing values e tentar ver onde pertencem"
   ]
  },
  {
   "cell_type": "markdown",
   "metadata": {},
   "source": [
    "##### Correct datatypes"
   ]
  },
  {
   "cell_type": "code",
   "execution_count": null,
   "metadata": {},
   "outputs": [],
   "source": [
    "df.dtypes\n",
    "# Incorrect data types:\n",
    "# customer_age (float - int)\n",
    "# first_order (float - int)\n",
    "# HR_0 (float - int)"
   ]
  },
  {
   "cell_type": "code",
   "execution_count": 141,
   "metadata": {},
   "outputs": [],
   "source": [
    "df[\"customer_age\"]= df[\"customer_age\"].astype('Int64')\n",
    "# convert \"customer_age\" from float to int"
   ]
  },
  {
   "cell_type": "code",
   "execution_count": 142,
   "metadata": {},
   "outputs": [],
   "source": [
    "df[\"first_order\"] = df[\"first_order\"].astype(\"Int64\")\n",
    "# convert \"first_order\" from float to int"
   ]
  },
  {
   "cell_type": "code",
   "execution_count": 143,
   "metadata": {},
   "outputs": [],
   "source": [
    "df[\"HR_0\"] = df[\"HR_0\"].astype(\"Int64\")\n",
    "# convert \"HR_0\" from float to int"
   ]
  },
  {
   "cell_type": "markdown",
   "metadata": {},
   "source": [
    "### "
   ]
  },
  {
   "cell_type": "markdown",
   "metadata": {},
   "source": [
    "### Descriptive statistics"
   ]
  },
  {
   "cell_type": "markdown",
   "metadata": {},
   "source": [
    "##### Convert age to birth year (??)"
   ]
  },
  {
   "cell_type": "code",
   "execution_count": 171,
   "metadata": {},
   "outputs": [],
   "source": [
    "# reasoning: Age needs to be recalculated regularly. Birth year is a constant feature - more accurate"
   ]
  },
  {
   "cell_type": "markdown",
   "metadata": {},
   "source": [
    "##### DESCRIPTIVES - NUMERICAL FEATURES"
   ]
  },
  {
   "cell_type": "code",
   "execution_count": null,
   "metadata": {},
   "outputs": [],
   "source": [
    "# descriptives before replacing missing values and treating datatypes:\n",
    "\n",
    "df.describe().T\n",
    "# only includes numerical features\n",
    "\n",
    "# FINAL INSIGHTS:\n",
    "\n",
    "# Customer age: \n",
    "# - average customer is 27.5 \n",
    "# - youngest costumer=15y // oldest customer = 80y\n",
    "# - 75% of customers are 31yo or younger\n",
    "# - oldest customer= 80yo (outlier??) \n",
    "\n",
    "# most of customers are young, there are a few older individuals in the dataset. \n",
    "\n",
    "# Further analysis: \n",
    "# oldest customer= 80yo (outlier??)\n",
    "\n",
    "\n",
    "# vendor count: (nº unique vendors customer has ordered from) \n",
    "# - entries with 0 (needs further exploration) \n",
    "# - average vendor count is 3\n",
    "# - 75% of unique vendors customers have ordered from is 4\n",
    "# - max vendor count is 41 (outlier??)\n",
    "\n",
    "# Most customers ordered from few vendors, but there are customers with much higher count \n",
    "\n",
    "# Furhter analysis:\n",
    "# entries with 0 (?)\n",
    "# max vendor count is 41 (outlier??)\n",
    "\n",
    "\n",
    "# product_count: (Total number of products the customer has ordered. ) \n",
    "# entries with 0 products (no products purchased) \n",
    "# max vendor count is 269 (outlier)\n",
    "# Most product count is low\n",
    "\n",
    "# Further analysis:\n",
    "# max vendor count is 269 (outlier??)\n",
    "# entries with 0 products (no products purchased) \n",
    "\n",
    "\n",
    "# is_chain: (number of orders made in chain restaurants):\n",
    "# relative small amount of orders made in chain restaurants \n",
    "# max nº orders made in chain is 83\n",
    "\n",
    "# - most count of orders made in chain restaurants is low, but there are customers with a very high number of orders in chain (outlier??)\n",
    "\n",
    "# Further analysis:\n",
    "# max nº orders made in chain is 83 (outlier??)\n",
    "\n",
    "\n",
    "# first_order: (nº of days from the start of dataset where customer first placed an order): \n",
    "# - On average customers place their first order 28 days after joining the app\n",
    "# - st dev = 24.1 suggests a wide spread in values of first orders. (significant variability in the amount of time customers take to make their first order)\n",
    "# - min = 0 (customers who didnt do their first order yet)\n",
    "# - max = 90 (outlier??)\n",
    "# - 75% of customers placed their first order 45 days after entering the database\n",
    "\n",
    "# further_analysis:\n",
    "# first_order= 0 \n",
    "# max = 90 (outlier??)\n",
    "\n",
    "\n",
    "# last order: (nº of days from the start of the dataset where customer last placed an order):  \n",
    "# - st dev= 23 suggests a wide spread in values of first orders. (significant variability in the amount of time customers take to make their first order)\n",
    "# - min = 0 (can indicate the customer placed their first order on the first day they joined the dataset/didnt do an order yet compare with min first order)\n",
    "\n",
    "# further analysis:\n",
    "# last_order = 0 \n",
    "# first_order = last_order (?) \n",
    "\n",
    "\n",
    "# CUI_American/Asian: (amount of money spent by the customer on the indicated cuisine):\n",
    "# On average each customer spent a low amout of money from american/Asian cuisin \n",
    "# min = 0 at leat 1 customer didnt buy from american/Asian cuisine\n",
    "# median = 0 - 50% of customers didnt buy from american/Asian cuisine. Reinforcing that customers are not engaging with american/Asian cuisine\n",
    "# 25% of customers spend more than 5.66/11.83 in american/Asian cuisin\n",
    "# max = 280/896 - while most customers spend little on American/Asian cuisine, there are outliers who frequently order or spend heavily in this category\n",
    "\n",
    "\n",
    "\n",
    "# CUI_Beverages / CUI_Cafe/ CUI_Chicken Dishes/ CUI_Chinese/ CUI_Desserts/ CUI_Healthy/CUI_Indian/CUI_Italian/CUI_Japanese/CUI_Noodle Dishes/CUI_OTHER:\n",
    "# 75% of customers (most customers) - spent nothing on these type of cuisines\n",
    "# st dev - high variability in spending.\n",
    "# max = 229 - there's at least one customer who spent 229 (outlier)\n",
    "# mean low bcs high spenders are a low fraction of the total dataset. Their spending dont increase the overall avg significance.\n",
    "\n",
    "# Most of customers spent nothing on these types of cuisines, while a few spent significantly more (high st_dev and max values)\n",
    "\n",
    "# Further analysis:\n",
    "# outliers (??)\n",
    "\n",
    "# DW_0-DW_6: (plot different hours of the day to see peak days)\n",
    "# - 75% of customers ordered 1 time in that day \n",
    "# the max indicate the presence of outliers and suggests the peak \n",
    "\n",
    "# most customers only ordered 1 time in each day of the week.\n",
    "\n",
    "# further analysis:\n",
    "# max outlier(??)\n",
    "\n",
    "\n",
    "# Hours of the day\n",
    "# HR_0 : No activity at midnight \n",
    "# HR_1-23: 75% of customers placed no order in these hours. Max can be outlier or unusual behavior.\n",
    "\n",
    "# Further_analysis:\n",
    "# HR_0 : No activity at midnight \n",
    "# max outlier (??)"
   ]
  },
  {
   "cell_type": "markdown",
   "metadata": {},
   "source": [
    "### Descriptives - categorical Data"
   ]
  },
  {
   "cell_type": "code",
   "execution_count": null,
   "metadata": {},
   "outputs": [],
   "source": [
    "df.describe(include=\"object\").T\n",
    "\n",
    "# Customer_region:\n",
    "# Customers are from 8 different regions\n",
    "# Most customers are located in region 8670\n",
    "# Missing values \n",
    "\n",
    "# last_promo: \n",
    "# There are promotions in 3 different categories \n",
    "# Most customers use promotions in the delivery category\n",
    "# missing values\n",
    "\n",
    "# payment_method: \n",
    "# There are 3 different payment methods used by customers\n",
    "# Most customers use Card as their preferred payment method"
   ]
  },
  {
   "cell_type": "code",
   "execution_count": null,
   "metadata": {},
   "outputs": [],
   "source": [
    "df[\"customer_region\"][df[\"customer_region\"].notna()].unique()\n",
    "# Different regions where customers are located"
   ]
  },
  {
   "cell_type": "code",
   "execution_count": null,
   "metadata": {},
   "outputs": [],
   "source": [
    "df[\"last_promo\"][df[\"last_promo\"].notna()].unique()\n",
    "# Different types of discounts used by customers"
   ]
  },
  {
   "cell_type": "code",
   "execution_count": null,
   "metadata": {},
   "outputs": [],
   "source": [
    "df[\"payment_method\"].unique()\n",
    "# Different types of payment methods used by customers"
   ]
  },
  {
   "cell_type": "markdown",
   "metadata": {},
   "source": [
    "### Data interpretation - NUMERICAL FEATURES"
   ]
  },
  {
   "cell_type": "markdown",
   "metadata": {},
   "source": [
    "### Strange Values"
   ]
  },
  {
   "cell_type": "markdown",
   "metadata": {},
   "source": [
    "##### -> Is_chain metadata - wrongly defined"
   ]
  },
  {
   "cell_type": "code",
   "execution_count": null,
   "metadata": {},
   "outputs": [],
   "source": [
    "df[\"is_chain\"].unique()\n",
    "# is_chain should be binary (metadata wrongly defined - assume: Nº of orders on chain restaurants)\n",
    "# chain restaurant number id (??)"
   ]
  },
  {
   "cell_type": "markdown",
   "metadata": {},
   "source": [
    "#### -> Vendor count (nº unique vendors customer has ordered from) & product_count: Total number of products the customer has ordered. only products or unique products)"
   ]
  },
  {
   "cell_type": "markdown",
   "metadata": {},
   "source": [
    "###### VENDOR_COUNT = 0  => PRODUCT_COUNT = 0 & FIRST_ORDER = LAST_ORDER"
   ]
  },
  {
   "cell_type": "code",
   "execution_count": null,
   "metadata": {},
   "outputs": [],
   "source": [
    "# unlock vendor count = 0: #strange value \n",
    "vendor_count_zero = df.loc[df[\"vendor_count\"]==0, [\"customer_id\", \"vendor_count\", \"product_count\", \"first_order\", \"last_order\"]]\n",
    "vendor_count_zero\n"
   ]
  },
  {
   "cell_type": "code",
   "execution_count": null,
   "metadata": {},
   "outputs": [],
   "source": [
    "vendor_count_zero.count()\n",
    "# total amount of customers with vendor_count = 0"
   ]
  },
  {
   "cell_type": "code",
   "execution_count": null,
   "metadata": {},
   "outputs": [],
   "source": [
    "all_conditions = df.loc[(df[\"vendor_count\"]==0)  & (df[\"vendor_count\"]==0) & (df[\"first_order\"]==df[\"last_order\"]), [\"customer_id\", \"vendor_count\", \"product_count\", \"first_order\", \"last_order\"]]\n",
    "all_conditions\n",
    "\n",
    "# all customers with vendor_count = 0 have product_count= 0, first_order= last_order"
   ]
  },
  {
   "cell_type": "code",
   "execution_count": null,
   "metadata": {},
   "outputs": [],
   "source": [
    "all_conditions.count()"
   ]
  },
  {
   "cell_type": "markdown",
   "metadata": {},
   "source": [
    "###### PRODUCT COUNT = 0 => FIRST_ORDER = LAST_ORDER & VENDOR_COUNT = 0 OR 1"
   ]
  },
  {
   "cell_type": "code",
   "execution_count": null,
   "metadata": {},
   "outputs": [],
   "source": [
    "product_count_zero = df.loc[df[\"product_count\"]==0, [\"customer_id\", \"vendor_count\", \"product_count\", \"first_order\", \"last_order\"]]\n",
    "product_count_zero\n",
    "# when product_count = 0, vendor_count = 0 or vendor_count = 1, first_order = last_order (code this)"
   ]
  },
  {
   "cell_type": "code",
   "execution_count": null,
   "metadata": {},
   "outputs": [],
   "source": [
    "product_count_zero.count()\n",
    "# total amount of customers with product_count = 0"
   ]
  },
  {
   "cell_type": "code",
   "execution_count": null,
   "metadata": {},
   "outputs": [],
   "source": [
    "prdct_count_zero_frst_last_order = df.loc[(df[\"product_count\"]==0) & (df[\"first_order\"]==df[\"last_order\"]) , [\"customer_id\", \"vendor_count\", \"product_count\", \"first_order\", \"last_order\"]]\n",
    "prdct_count_zero_frst_last_order"
   ]
  },
  {
   "cell_type": "code",
   "execution_count": null,
   "metadata": {},
   "outputs": [],
   "source": [
    "prdct_count_zero_frst_last_order.count()"
   ]
  },
  {
   "cell_type": "code",
   "execution_count": null,
   "metadata": {},
   "outputs": [],
   "source": [
    "all_condit = df.loc[(df[\"product_count\"]==0) & (df[\"first_order\"]==df[\"last_order\"]) & ((df[\"vendor_count\"]==0)|(df[\"vendor_count\"]==1)) , [\"customer_id\", \"vendor_count\", \"product_count\", \"first_order\", \"last_order\"]]\n",
    "all_condit"
   ]
  },
  {
   "cell_type": "code",
   "execution_count": null,
   "metadata": {},
   "outputs": [],
   "source": [
    "all_condit.count()\n",
    "# total amount of customers with product_count = 0 & first_order = last order & vendor_count = 0 or 1"
   ]
  },
  {
   "cell_type": "code",
   "execution_count": null,
   "metadata": {},
   "outputs": [],
   "source": [
    "equal_first_last_orders = df.loc[df[\"first_order\"]==df[\"last_order\"], [\"customer_id\", \"vendor_count\", \"product_count\", \"first_order\", \"last_order\"]]\n",
    "equal_first_last_orders.count()\n",
    "\n",
    "# number of customers where first_order=last_order "
   ]
  },
  {
   "cell_type": "markdown",
   "metadata": {},
   "source": [
    "### Aggregating Data"
   ]
  },
  {
   "cell_type": "code",
   "execution_count": null,
   "metadata": {},
   "outputs": [],
   "source": [
    "numerical_columns_totals = df.sum(numeric_only=True, axis=0)\n",
    "numerical_columns_totals\n",
    "# no order placed on HR_0 "
   ]
  },
  {
   "cell_type": "code",
   "execution_count": null,
   "metadata": {},
   "outputs": [],
   "source": [
    "total_number_orders = numerical_columns_totals[[\"DOW_0\", \"DOW_1\", \"DOW_2\", \"DOW_3\", \"DOW_4\", \"DOW_5\", \"DOW_6\"]].sum()\n",
    "total_number_orders\n",
    "\n",
    "# total number of orders"
   ]
  },
  {
   "cell_type": "code",
   "execution_count": null,
   "metadata": {},
   "outputs": [],
   "source": [
    "prop_chain_over_total = ((numerical_columns_totals[\"is_chain\"].sum())/total_number_orders*100).round(2)\n",
    "prop_chain_over_total\n",
    "\n",
    "# percentage of purchases in chain restaurants "
   ]
  },
  {
   "cell_type": "code",
   "execution_count": null,
   "metadata": {},
   "outputs": [],
   "source": [
    "total_last_promo = df.groupby(\"last_promo\").size()\n",
    "total_last_promo"
   ]
  },
  {
   "cell_type": "code",
   "execution_count": null,
   "metadata": {},
   "outputs": [],
   "source": [
    "total_pay_method = df.groupby(\"customer_region\").size()\n",
    "total_pay_method"
   ]
  }
 ],
 "metadata": {
  "kernelspec": {
   "display_name": "env",
   "language": "python",
   "name": "python3"
  },
  "language_info": {
   "codemirror_mode": {
    "name": "ipython",
    "version": 3
   },
   "file_extension": ".py",
   "mimetype": "text/x-python",
   "name": "python",
   "nbconvert_exporter": "python",
   "pygments_lexer": "ipython3",
   "version": "3.12.7"
  }
 },
 "nbformat": 4,
 "nbformat_minor": 2
}
