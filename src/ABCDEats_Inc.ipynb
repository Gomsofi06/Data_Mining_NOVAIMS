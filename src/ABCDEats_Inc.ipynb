{
 "cells": [
  {
   "cell_type": "markdown",
   "metadata": {},
   "source": [
    "# Data Mining Project: ABCDEats Inc.\n",
    "\n",
    "Fall Semester 2024-2025 <br>\n",
    "\n",
    "Master in Data Science and Advanced Analytics <br>\n",
    "\n",
    "NOVA Information Management School"
   ]
  },
  {
   "cell_type": "markdown",
   "metadata": {},
   "source": [
    "## Project Description\n",
    "\n",
    "In this project, you will act as consultants for ABCDEats Inc. (ABCDE), a fictional food delivery service partner- ing with a range of restaurants to offer diverse meal options. Your task is to analyse customer data collected over three months from three cities to help ABCDE develop a data-driven strategy tailored to various customer segments. The description of the data is provided under the Dataset Description section of this document. <br>\n",
    "\n",
    "We recommend segmenting customers using multiple perspectives. Examples of segmentation perspec- tives include value-based segmentation, which groups customers by their economic value; preference or behaviour-based segmentation which focuses on purchasing habits; and demographic segmentation which categorises customers by attributes like age, gender, and income to understand different interaction pat- terns. <br>\n",
    "\n",
    "Ultimately, the company seeks a final segmentation that integrates these perspectives to enable them to develop a comprehensive marketing strategy."
   ]
  },
  {
   "cell_type": "markdown",
   "metadata": {},
   "source": [
    "## Expected Outcomes\n",
    "\n",
    "* Conduct an in-depth exploration of the dataset. Summarise key statistics for the data, and discuss their possible implications. <br>\n",
    "\n",
    "* Identifyanytrends,patterns,oranomalieswithin the dataset. Explore relationships between fea- tures. <br>\n",
    "\n",
    "* Create new features that may help enhance your analysis. <br>\n",
    "\n",
    "* Use visualisations to effectively communicate your findings.\n"
   ]
  },
  {
   "cell_type": "code",
   "execution_count": null,
   "metadata": {},
   "outputs": [],
   "source": []
  }
 ],
 "metadata": {
  "language_info": {
   "name": "python"
  }
 },
 "nbformat": 4,
 "nbformat_minor": 2
}
