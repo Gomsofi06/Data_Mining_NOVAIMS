{
 "cells": [
  {
   "cell_type": "markdown",
   "metadata": {},
   "source": [
    "#### Vendor Count & Product Count features: <br>"
   ]
  },
  {
   "cell_type": "code",
   "execution_count": null,
   "metadata": {
    "vscode": {
     "languageId": "plaintext"
    }
   },
   "outputs": [],
   "source": [
    "product_count_zero = vendor_count_zero = df.loc[df[\"product_count\"]==0, [\"customer_id\", \"vendor_count\", \"product_count\", \"first_order\", \"last_order\"]]\n",
    "\n",
    "print(f\"Total number of customers with product_count equal to 0: {len(product_count_zero)} customers\")\n",
    "\n",
    "# Product_count = 0, some have vendor_count = 1. \n",
    "# Strange value\n",
    "\n",
    "# If the customer didn't order any product how the vendor count ==1??"
   ]
  },
  {
   "cell_type": "code",
   "execution_count": null,
   "metadata": {
    "vscode": {
     "languageId": "plaintext"
    }
   },
   "outputs": [],
   "source": [
    "# unlock vendor count = 0: #strange value \n",
    "vendor_count_zero = df.loc[df[\"vendor_count\"]==0, [\"customer_id\", \"vendor_count\", \"product_count\", \"first_order\", \"last_order\"]]\n",
    "\n",
    "print(f\"Total number of customers with vendor_count and product_count equal to 0: {len(vendor_count_zero)} customers\")\n",
    "\n",
    "# Indicative of inactive customers. First order date may be the date of the customer registration in the database. "
   ]
  },
  {
   "cell_type": "code",
   "execution_count": null,
   "metadata": {
    "vscode": {
     "languageId": "plaintext"
    }
   },
   "outputs": [],
   "source": [
    "product_zero_vendor_one = df.loc[(df[\"product_count\"]==0) & (df[\"vendor_count\"]>=1), [\"customer_id\", \"vendor_count\", \"product_count\", \"first_order\", \"last_order\"]]\n",
    "\n",
    "product_zero_vendor_one_percentage = len(product_zero_vendor_one) / len(df) * 100\n",
    "\n",
    "print(f\"Number of customers with product_count = 0 and vendor_count >= 1: {len(product_zero_vendor_one)} customers\")\n",
    "print(f\"Percentage of customers with product_count = 0 and vendor_count >= 1: {round(product_zero_vendor_one_percentage, 4)} %\")"
   ]
  },
  {
   "cell_type": "markdown",
   "metadata": {},
   "source": [
    "### Further feature analysis:"
   ]
  },
  {
   "cell_type": "code",
   "execution_count": null,
   "metadata": {
    "vscode": {
     "languageId": "plaintext"
    }
   },
   "outputs": [],
   "source": [
    "count_last_promo = df.groupby(\"last_promo\").size()\n",
    "total_last_promo = count_last_promo.sum()\n",
    "last_promo_percentage = ((count_last_promo / total_last_promo) * 100).round(3)\n",
    "last_promo_percentage\n",
    "\n",
    "# Highest last promotion distribution is delivery"
   ]
  },
  {
   "cell_type": "code",
   "execution_count": null,
   "metadata": {
    "vscode": {
     "languageId": "plaintext"
    }
   },
   "outputs": [],
   "source": [
    "customer_region_distribution = df.groupby(\"customer_region\").size()\n",
    "total_customers = customer_region_distribution.sum()\n",
    "customer_region_percentage = ((customer_region_distribution / total_customers) * 100).round(3)\n",
    "customer_region_percentage\n",
    "\n",
    "# Customer distribution per region"
   ]
  },
  {
   "cell_type": "code",
   "execution_count": null,
   "metadata": {
    "vscode": {
     "languageId": "plaintext"
    }
   },
   "outputs": [],
   "source": [
    "# FINAL INSIGHTS:\n",
    "\n",
    "# Customer age: \n",
    "# Further analysis: \n",
    "#    - oldest customer= 80yo (outlier??)\n",
    "\n",
    "\n",
    "# vendor count: (nº unique vendors customer has ordered from) \n",
    "# Further analysis:\n",
    "#   - entries with 0 (?)\n",
    "#   - max vendor count is 41 (outlier??)\n",
    "\n",
    "\n",
    "# product_count: (Total number of products the customer has ordered. ) \n",
    "# Further analysis:\n",
    "#   - max product count is 269 (outlier??)\n",
    "#   - entries with 0 products (no products purchased) \n",
    "\n",
    "\n",
    "# is_chain: (number of orders made in chain restaurants):\n",
    "# Further analysis:\n",
    "#    - is_chain represents nº of orders in chain restaurant or the chain_restaurant id?\n",
    "\n",
    "\n",
    "# first_order: (nº of days from the start of dataset where customer first placed an order): \n",
    "# further_analysis:\n",
    "#   - first_order= 0 \n",
    "#   - max = 90 (outlier??)\n",
    "\n",
    "\n",
    "# last order: (nº of days from the start of the dataset where customer last placed an order):  \n",
    "# further analysis:\n",
    "#   - last_order = 0 \n",
    "#   - first_order = last_order (?) \n",
    "\n",
    "\n",
    "## OVERALL ANALYSIS CUISINE TYPES: \n",
    "# Further analysis:\n",
    "#   - outliers (??)\n",
    "\n",
    "# DW_0-DW_6: (plot different hours of the day to see peak days)\n",
    "# further analysis:\n",
    "#   - max outlier(??)\n",
    "\n",
    "\n",
    "# Hours of the day\n",
    "# Further_analysis:\n",
    "#   - HR_0 : No activity at midnight \n",
    "#   - max outlier (??)"
   ]
  }
 ],
 "metadata": {
  "language_info": {
   "name": "python"
  }
 },
 "nbformat": 4,
 "nbformat_minor": 2
}
